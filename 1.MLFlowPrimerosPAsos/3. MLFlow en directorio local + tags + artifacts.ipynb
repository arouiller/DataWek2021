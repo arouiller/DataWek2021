{
 "cells": [
  {
   "cell_type": "code",
   "execution_count": 1,
   "id": "9ed165b5",
   "metadata": {},
   "outputs": [],
   "source": [
    "import os"
   ]
  },
  {
   "cell_type": "code",
   "execution_count": 2,
   "id": "a43ae373",
   "metadata": {},
   "outputs": [],
   "source": [
    "os.environ[\"MLFLOW_TRACKING_URI\"] = 'file:///' + os.getcwd() + '/mlruns'\n",
    "os.environ[\"MLFLOW_EXPERIMENT_NAME\"] = \"Prueba_local\"\n",
    "os.environ[\"GIT_PYTHON_REFRESH\"] = \"quiet\""
   ]
  },
  {
   "cell_type": "code",
   "execution_count": 3,
   "id": "7717a8f2",
   "metadata": {},
   "outputs": [
    {
     "data": {
      "text/plain": [
       "'file:///C:\\\\Users\\\\arouiller\\\\DataWeek 2022\\\\1.MLFlowPrimerosPAsos/mlruns'"
      ]
     },
     "execution_count": 3,
     "metadata": {},
     "output_type": "execute_result"
    }
   ],
   "source": [
    "os.environ[\"MLFLOW_TRACKING_URI\"]"
   ]
  },
  {
   "cell_type": "code",
   "execution_count": 4,
   "id": "a3f8ab87",
   "metadata": {},
   "outputs": [],
   "source": [
    "import mlflow\n",
    "import pandas as pd\n",
    "import numpy as np\n",
    "import matplotlib.pyplot as plt\n",
    "from sklearn.metrics import mean_squared_error, mean_absolute_error, r2_score\n",
    "from sklearn.model_selection import train_test_split\n",
    "from sklearn.linear_model import ElasticNet"
   ]
  },
  {
   "cell_type": "code",
   "execution_count": 5,
   "id": "0417193a",
   "metadata": {},
   "outputs": [],
   "source": [
    "def get_notebook_name():\n",
    "    \"\"\"Execute JS code to save Jupyter notebook name to variable notebook_name\"\"\"\n",
    "    from IPython.core.display import Javascript, display_javascript\n",
    "    js = Javascript(\"\"\"IPython.notebook.kernel.execute('notebook_name = \"' + IPython.notebook.notebook_name + '\"');\"\"\")\n",
    "    return display_javascript(js)\n",
    "\n",
    "def get_notebook_path():\n",
    "    \"\"\"Execute JS code to save Jupyter notebook path to variable notebook_path\"\"\"\n",
    "    from IPython.core.display import Javascript, display_javascript\n",
    "    js = Javascript(\"\"\"IPython.notebook.kernel.execute('notebook_path = \"' + IPython.notebook.notebook_path + '\"');\"\"\")\n",
    "    return display_javascript(js)"
   ]
  },
  {
   "cell_type": "code",
   "execution_count": 6,
   "id": "82fb84de",
   "metadata": {},
   "outputs": [
    {
     "data": {
      "application/javascript": [
       "IPython.notebook.kernel.execute('notebook_path = \"' + IPython.notebook.notebook_path + '\"');"
      ]
     },
     "metadata": {},
     "output_type": "display_data"
    },
    {
     "data": {
      "application/javascript": [
       "IPython.notebook.kernel.execute('notebook_name = \"' + IPython.notebook.notebook_name + '\"');"
      ]
     },
     "metadata": {},
     "output_type": "display_data"
    },
    {
     "name": "stdout",
     "output_type": "stream",
     "text": [
      "None\n",
      "None\n"
     ]
    }
   ],
   "source": [
    "notebook_path = get_notebook_path()\n",
    "notebook_name = get_notebook_name()\n",
    "\n",
    "print(f\"{notebook_path}\")\n",
    "print(f\"{notebook_name}\")"
   ]
  },
  {
   "cell_type": "code",
   "execution_count": 7,
   "id": "33e2f99a",
   "metadata": {},
   "outputs": [
    {
     "data": {
      "text/plain": [
       "'C:\\\\Users\\\\arouiller\\\\DataWeek 2022\\\\1.MLFlowPrimerosPAsos\\\\3. MLFlow en directorio local + tags + artifacts.ipynb'"
      ]
     },
     "execution_count": 7,
     "metadata": {},
     "output_type": "execute_result"
    }
   ],
   "source": [
    "file = os.getcwd()+ '\\\\'+ notebook_name\n",
    "file"
   ]
  },
  {
   "cell_type": "code",
   "execution_count": 8,
   "id": "20581c05",
   "metadata": {},
   "outputs": [],
   "source": [
    "database_dir = 'c:\\\\database\\\\winedata\\\\'\n",
    "file_name = 'winequality-red.csv'"
   ]
  },
  {
   "cell_type": "code",
   "execution_count": 9,
   "id": "fac36f15",
   "metadata": {},
   "outputs": [
    {
     "data": {
      "text/html": [
       "<div>\n",
       "<style scoped>\n",
       "    .dataframe tbody tr th:only-of-type {\n",
       "        vertical-align: middle;\n",
       "    }\n",
       "\n",
       "    .dataframe tbody tr th {\n",
       "        vertical-align: top;\n",
       "    }\n",
       "\n",
       "    .dataframe thead th {\n",
       "        text-align: right;\n",
       "    }\n",
       "</style>\n",
       "<table border=\"1\" class=\"dataframe\">\n",
       "  <thead>\n",
       "    <tr style=\"text-align: right;\">\n",
       "      <th></th>\n",
       "      <th>fixed acidity</th>\n",
       "      <th>volatile acidity</th>\n",
       "      <th>citric acid</th>\n",
       "      <th>residual sugar</th>\n",
       "      <th>chlorides</th>\n",
       "      <th>free sulfur dioxide</th>\n",
       "      <th>total sulfur dioxide</th>\n",
       "      <th>density</th>\n",
       "      <th>pH</th>\n",
       "      <th>sulphates</th>\n",
       "      <th>alcohol</th>\n",
       "      <th>quality</th>\n",
       "    </tr>\n",
       "  </thead>\n",
       "  <tbody>\n",
       "    <tr>\n",
       "      <th>0</th>\n",
       "      <td>7.4</td>\n",
       "      <td>0.70</td>\n",
       "      <td>0.00</td>\n",
       "      <td>1.9</td>\n",
       "      <td>0.076</td>\n",
       "      <td>11.0</td>\n",
       "      <td>34.0</td>\n",
       "      <td>0.9978</td>\n",
       "      <td>3.51</td>\n",
       "      <td>0.56</td>\n",
       "      <td>9.4</td>\n",
       "      <td>5</td>\n",
       "    </tr>\n",
       "    <tr>\n",
       "      <th>1</th>\n",
       "      <td>7.8</td>\n",
       "      <td>0.88</td>\n",
       "      <td>0.00</td>\n",
       "      <td>2.6</td>\n",
       "      <td>0.098</td>\n",
       "      <td>25.0</td>\n",
       "      <td>67.0</td>\n",
       "      <td>0.9968</td>\n",
       "      <td>3.20</td>\n",
       "      <td>0.68</td>\n",
       "      <td>9.8</td>\n",
       "      <td>5</td>\n",
       "    </tr>\n",
       "    <tr>\n",
       "      <th>2</th>\n",
       "      <td>7.8</td>\n",
       "      <td>0.76</td>\n",
       "      <td>0.04</td>\n",
       "      <td>2.3</td>\n",
       "      <td>0.092</td>\n",
       "      <td>15.0</td>\n",
       "      <td>54.0</td>\n",
       "      <td>0.9970</td>\n",
       "      <td>3.26</td>\n",
       "      <td>0.65</td>\n",
       "      <td>9.8</td>\n",
       "      <td>5</td>\n",
       "    </tr>\n",
       "    <tr>\n",
       "      <th>3</th>\n",
       "      <td>11.2</td>\n",
       "      <td>0.28</td>\n",
       "      <td>0.56</td>\n",
       "      <td>1.9</td>\n",
       "      <td>0.075</td>\n",
       "      <td>17.0</td>\n",
       "      <td>60.0</td>\n",
       "      <td>0.9980</td>\n",
       "      <td>3.16</td>\n",
       "      <td>0.58</td>\n",
       "      <td>9.8</td>\n",
       "      <td>6</td>\n",
       "    </tr>\n",
       "    <tr>\n",
       "      <th>4</th>\n",
       "      <td>7.4</td>\n",
       "      <td>0.70</td>\n",
       "      <td>0.00</td>\n",
       "      <td>1.9</td>\n",
       "      <td>0.076</td>\n",
       "      <td>11.0</td>\n",
       "      <td>34.0</td>\n",
       "      <td>0.9978</td>\n",
       "      <td>3.51</td>\n",
       "      <td>0.56</td>\n",
       "      <td>9.4</td>\n",
       "      <td>5</td>\n",
       "    </tr>\n",
       "  </tbody>\n",
       "</table>\n",
       "</div>"
      ],
      "text/plain": [
       "   fixed acidity  volatile acidity  citric acid  residual sugar  chlorides  \\\n",
       "0            7.4              0.70         0.00             1.9      0.076   \n",
       "1            7.8              0.88         0.00             2.6      0.098   \n",
       "2            7.8              0.76         0.04             2.3      0.092   \n",
       "3           11.2              0.28         0.56             1.9      0.075   \n",
       "4            7.4              0.70         0.00             1.9      0.076   \n",
       "\n",
       "   free sulfur dioxide  total sulfur dioxide  density    pH  sulphates  \\\n",
       "0                 11.0                  34.0   0.9978  3.51       0.56   \n",
       "1                 25.0                  67.0   0.9968  3.20       0.68   \n",
       "2                 15.0                  54.0   0.9970  3.26       0.65   \n",
       "3                 17.0                  60.0   0.9980  3.16       0.58   \n",
       "4                 11.0                  34.0   0.9978  3.51       0.56   \n",
       "\n",
       "   alcohol  quality  \n",
       "0      9.4        5  \n",
       "1      9.8        5  \n",
       "2      9.8        5  \n",
       "3      9.8        6  \n",
       "4      9.4        5  "
      ]
     },
     "execution_count": 9,
     "metadata": {},
     "output_type": "execute_result"
    }
   ],
   "source": [
    "data = pd.read_csv(database_dir + file_name, sep = ';')\n",
    "data.head()"
   ]
  },
  {
   "cell_type": "code",
   "execution_count": 10,
   "id": "8c1db00a",
   "metadata": {},
   "outputs": [],
   "source": [
    "# Split the data into training and test sets. (0.75, 0.25) split.\n",
    "train, test = train_test_split(data)"
   ]
  },
  {
   "cell_type": "code",
   "execution_count": 11,
   "id": "87a44c63",
   "metadata": {},
   "outputs": [],
   "source": [
    "# The predicted column is \"quality\" which is a scalar from [3, 9]\n",
    "train_x = train.drop([\"quality\"], axis=1)\n",
    "test_x = test.drop([\"quality\"], axis=1)\n",
    "train_y = train[[\"quality\"]]\n",
    "test_y = test[[\"quality\"]]"
   ]
  },
  {
   "cell_type": "code",
   "execution_count": null,
   "id": "116105b8",
   "metadata": {},
   "outputs": [],
   "source": []
  },
  {
   "cell_type": "code",
   "execution_count": 12,
   "id": "242baa15",
   "metadata": {},
   "outputs": [],
   "source": [
    "def eval_metrics(actual, pred):\n",
    "    rmse = np.sqrt(mean_squared_error(actual, pred))\n",
    "    mae = mean_absolute_error(actual, pred)\n",
    "    r2 = r2_score(actual, pred)\n",
    "    return rmse, mae, r2"
   ]
  },
  {
   "cell_type": "code",
   "execution_count": null,
   "id": "1f83c80a",
   "metadata": {},
   "outputs": [],
   "source": []
  },
  {
   "cell_type": "code",
   "execution_count": 13,
   "id": "7948b676",
   "metadata": {},
   "outputs": [
    {
     "data": {
      "text/plain": [
       "'1'"
      ]
     },
     "execution_count": 13,
     "metadata": {},
     "output_type": "execute_result"
    }
   ],
   "source": [
    "experiment_name = 'Regresion_lineal'\n",
    "\n",
    "try:\n",
    "    exp_id = mlflow.create_experiment(name=experiment_name)\n",
    "except Exception as e:\n",
    "    exp_id = mlflow.get_experiment_by_name(experiment_name).experiment_id\n",
    "    \n",
    "exp_id"
   ]
  },
  {
   "cell_type": "code",
   "execution_count": null,
   "id": "e958b3bb",
   "metadata": {},
   "outputs": [],
   "source": []
  },
  {
   "cell_type": "code",
   "execution_count": 18,
   "id": "f9c34be1",
   "metadata": {},
   "outputs": [
    {
     "data": {
      "image/png": "[encoded data removed]",
      "text/plain": [
       "<Figure size 1152x648 with 12 Axes>"
      ]
     },
     "metadata": {
      "needs_background": "light"
     },
     "output_type": "display_data"
    }
   ],
   "source": [
    "if 'images' not in os.listdir():\n",
    "    os.mkdir ('images')\n",
    "    \n",
    "alpha, l1_ratio = 0.1, 0.1\n",
    "    \n",
    "with mlflow.start_run(experiment_id=exp_id, run_name='RegresionLineal_PruebaLocal_ConTAGSyArtifacts'):\n",
    "    \n",
    "    lr = ElasticNet(alpha=alpha, l1_ratio=l1_ratio, random_state=42)\n",
    "    lr.fit(train_x, train_y)\n",
    "    predicted_qualities = lr.predict(test_x)\n",
    "    (rmse, mae, r2) = eval_metrics(test_y, predicted_qualities)\n",
    "    \n",
    "    #mlflow.log_param('alpha', alpha)\n",
    "    #mlflow.log_param('l1_ratio', l1_ratio)\n",
    "    mlflow.log_params({'alpha': alpha, 'l1_ratio':l1_ratio})\n",
    "    \n",
    "    #mlflow.log_metric('rmse', rmse)\n",
    "    #mlflow.log_metric('mae', mae)\n",
    "    mlflow.log_metrics({'rmse': rmse, 'mae':mae, 'r2':r2})\n",
    "    \n",
    "    mlflow.set_tags({'ProblemType':'Regresion', 'ModelType':'Elasticnet', 'ModelLibrary':'Scikit-Learn', 'developer':'arouiller'})\n",
    "    \n",
    "    mlflow.sklearn.log_model(lr, \"PlainRegression_Model\")\n",
    "    \n",
    "    train_x.plot(kind='box', subplots=True, layout=(3,4), figsize=(16,9), title='Box plot of each feature')\n",
    "    plt.savefig('images/distribution_plot_all_features.png')\n",
    "    \n",
    "    mlflow.log_artifacts('images', 'images')\n",
    "    \n",
    "    mlflow.log_artifact(file, 'source')\n",
    "    \n",
    "    mlflow.end_run()"
   ]
  },
  {
   "cell_type": "code",
   "execution_count": null,
   "id": "acb1b76d",
   "metadata": {},
   "outputs": [],
   "source": []
  }
 ],
 "metadata": {
  "kernelspec": {
   "display_name": "Python 3 (ipykernel)",
   "language": "python",
   "name": "python3"
  },
  "language_info": {
   "codemirror_mode": {
    "name": "ipython",
    "version": 3
   },
   "file_extension": ".py",
   "mimetype": "text/x-python",
   "name": "python",
   "nbconvert_exporter": "python",
   "pygments_lexer": "ipython3",
   "version": "3.10.4"
  }
 },
 "nbformat": 4,
 "nbformat_minor": 5
}
